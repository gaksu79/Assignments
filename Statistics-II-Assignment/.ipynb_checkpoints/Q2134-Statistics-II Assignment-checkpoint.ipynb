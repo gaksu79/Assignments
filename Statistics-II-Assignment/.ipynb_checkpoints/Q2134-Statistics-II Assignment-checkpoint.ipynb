{
 "cells": [
  {
   "cell_type": "code",
   "execution_count": 1,
   "id": "675399e6-2b9d-4b26-802b-21e3676a0bd3",
   "metadata": {
    "tags": []
   },
   "outputs": [],
   "source": [
    "import numpy as np\n",
    "import pandas as pd\n",
    "import matplotlib.pyplot as plt\n",
    "import seaborn as sns\n",
    "from scipy import stats"
   ]
  },
  {
   "cell_type": "markdown",
   "id": "4926d5cc-607e-48f4-8075-b56deb0ffb26",
   "metadata": {},
   "source": [
    "### EXERCISE 1."
   ]
  },
  {
   "cell_type": "markdown",
   "id": "21c006bf-270c-4039-b022-c7bf61f33b55",
   "metadata": {},
   "source": [
    "What is the normal body temperature for healthy humans? A random sample of 130 healthy human body temperatures provided by Allen Shoemaker yielded 98.25 degrees and standard deviation 0.73 degrees. \n",
    "Give a 99% confidence interval for the average body temperature of healthy people."
   ]
  },
  {
   "cell_type": "code",
   "execution_count": 2,
   "id": "7f3ccd78-d10c-4c07-8c5d-9966bc4db977",
   "metadata": {
    "tags": []
   },
   "outputs": [],
   "source": [
    "x_bar = 98.25"
   ]
  },
  {
   "cell_type": "code",
   "execution_count": 3,
   "id": "21ae825f-16d5-44d5-b301-e7f083a80a54",
   "metadata": {
    "tags": []
   },
   "outputs": [],
   "source": [
    "sigma = 0.73"
   ]
  },
  {
   "cell_type": "code",
   "execution_count": 4,
   "id": "c1077374-f38a-43ab-aa23-7deb833ad6bd",
   "metadata": {
    "tags": []
   },
   "outputs": [],
   "source": [
    "n = 130"
   ]
  },
  {
   "cell_type": "code",
   "execution_count": 5,
   "id": "e8075be5-5cd3-4445-ae86-2076ad37d7ac",
   "metadata": {
    "tags": []
   },
   "outputs": [
    {
     "data": {
      "text/plain": [
       "0.06402523540941313"
      ]
     },
     "execution_count": 5,
     "metadata": {},
     "output_type": "execute_result"
    }
   ],
   "source": [
    "# Standard error of mean\n",
    "\n",
    "sem = sigma / np.sqrt(n)\n",
    "sem"
   ]
  },
  {
   "cell_type": "code",
   "execution_count": 6,
   "id": "36b62826-a3e2-40f2-9ed1-c30e57b50acc",
   "metadata": {
    "tags": []
   },
   "outputs": [
    {
     "data": {
      "text/plain": [
       "0.16492900641464822"
      ]
     },
     "execution_count": 6,
     "metadata": {},
     "output_type": "execute_result"
    }
   ],
   "source": [
    "# Margin of error for 99% confidence interval\n",
    "moe = 2.576 * sem\n",
    "moe"
   ]
  },
  {
   "cell_type": "code",
   "execution_count": 7,
   "id": "e285c190-4342-4d22-8189-c5591816bf52",
   "metadata": {
    "tags": []
   },
   "outputs": [
    {
     "data": {
      "text/plain": [
       "98.41492900641465"
      ]
     },
     "execution_count": 7,
     "metadata": {},
     "output_type": "execute_result"
    }
   ],
   "source": [
    "# The upper confidence limit\n",
    "upper_lim = x_bar + moe\n",
    "upper_lim"
   ]
  },
  {
   "cell_type": "code",
   "execution_count": 8,
   "id": "4b9fa6f2-d188-4b01-b25a-21f190cbfab1",
   "metadata": {
    "tags": []
   },
   "outputs": [
    {
     "data": {
      "text/plain": [
       "98.08507099358535"
      ]
     },
     "execution_count": 8,
     "metadata": {},
     "output_type": "execute_result"
    }
   ],
   "source": [
    "# The lower confidence limit\n",
    "lower_lim = x_bar - moe\n",
    "lower_lim"
   ]
  },
  {
   "cell_type": "code",
   "execution_count": 9,
   "id": "814fb4b6-8652-4a04-97ea-22bde970bec3",
   "metadata": {
    "tags": []
   },
   "outputs": [],
   "source": [
    "# Alternative"
   ]
  },
  {
   "cell_type": "code",
   "execution_count": 10,
   "id": "81ab2908-cca0-4f89-99fe-aff01b17cfea",
   "metadata": {
    "tags": []
   },
   "outputs": [
    {
     "data": {
      "text/plain": [
       "(98.08508192246582, 98.41491807753418)"
      ]
     },
     "execution_count": 10,
     "metadata": {},
     "output_type": "execute_result"
    }
   ],
   "source": [
    "ci_z = stats.norm.interval(0.99, 98.25, sem)\n",
    "ci_z"
   ]
  },
  {
   "cell_type": "markdown",
   "id": "9c21da21-40d5-418e-b409-b5647c53ed32",
   "metadata": {},
   "source": [
    "### EXERCISE 2."
   ]
  },
  {
   "cell_type": "raw",
   "id": "9dac11c9-6692-4c14-9990-37ba7786df40",
   "metadata": {},
   "source": [
    "The administrators for a hospital wished to estimate the average number of days required for inpatient treatment of patients between the ages of 25 and 34. A random sample of 500 hospital patients between these ages produced a mean and standard deviation equal to 5.4 and 3.1 days, respectively.\n",
    "Construct a 95% confidence interval for the mean length of stay for the population of patients from which the sample was drawn."
   ]
  },
  {
   "cell_type": "code",
   "execution_count": 11,
   "id": "fc46bbcc-e5ff-427b-9b3a-fe22405c9abb",
   "metadata": {
    "tags": []
   },
   "outputs": [
    {
     "data": {
      "text/plain": [
       "0.13863621460498696"
      ]
     },
     "execution_count": 11,
     "metadata": {},
     "output_type": "execute_result"
    }
   ],
   "source": [
    "sem = 3.1 / np.sqrt(500)\n",
    "sem"
   ]
  },
  {
   "cell_type": "code",
   "execution_count": 12,
   "id": "3302b782-9d05-4dfe-aacf-386778c8ca2d",
   "metadata": {
    "tags": []
   },
   "outputs": [
    {
     "data": {
      "text/plain": [
       "0.27172698062577444"
      ]
     },
     "execution_count": 12,
     "metadata": {},
     "output_type": "execute_result"
    }
   ],
   "source": [
    "moe = 1.96 * sem\n",
    "moe"
   ]
  },
  {
   "cell_type": "code",
   "execution_count": 13,
   "id": "84543235-6a9a-42aa-978e-2374b26213d2",
   "metadata": {
    "tags": []
   },
   "outputs": [
    {
     "data": {
      "text/plain": [
       "5.671726980625775"
      ]
     },
     "execution_count": 13,
     "metadata": {},
     "output_type": "execute_result"
    }
   ],
   "source": [
    "upper_lim = 5.4 + moe\n",
    "upper_lim"
   ]
  },
  {
   "cell_type": "code",
   "execution_count": 14,
   "id": "53cad376-4781-47d0-b12e-673fe982b981",
   "metadata": {
    "tags": []
   },
   "outputs": [
    {
     "data": {
      "text/plain": [
       "5.128273019374226"
      ]
     },
     "execution_count": 14,
     "metadata": {},
     "output_type": "execute_result"
    }
   ],
   "source": [
    "lower_lim = 5.4 - moe\n",
    "lower_lim"
   ]
  },
  {
   "cell_type": "code",
   "execution_count": 15,
   "id": "4363346e-3f3a-4d68-b4f8-e342d6d8b9c1",
   "metadata": {
    "tags": []
   },
   "outputs": [
    {
     "data": {
      "text/plain": [
       "(5.12827801242126, 5.67172198757874)"
      ]
     },
     "execution_count": 15,
     "metadata": {},
     "output_type": "execute_result"
    }
   ],
   "source": [
    "ci_z = stats.norm.interval(0.95, 5.4, sem)\n",
    "ci_z"
   ]
  },
  {
   "cell_type": "markdown",
   "id": "3a676aee-5533-4768-880f-8eb4c38488cb",
   "metadata": {},
   "source": [
    "### EXERCISE 3."
   ]
  },
  {
   "cell_type": "raw",
   "id": "08df5138-734a-456c-a351-617f315488fd",
   "metadata": {},
   "source": [
    "The hourly wages in a particular industry are normally distributed with mean $13.20 and standard deviation $2.50. A company in this industry employs 40 workers, paying them an average of $12.20 per hour. Can this company be accused of paying substandard wages? Use an α = .01 level test. (Wackerly, Ex.10.18)\n",
    "CHECK: statistic: -2.5298221281347035, pvalue= 0.005706018193000826"
   ]
  },
  {
   "cell_type": "code",
   "execution_count": 16,
   "id": "ca9f977b-b431-4249-9391-aac81cbae45f",
   "metadata": {
    "tags": []
   },
   "outputs": [],
   "source": [
    "x_bar = 12.20\n",
    "mu = 13.20\n",
    "sigma = 2.50\n",
    "n = 40"
   ]
  },
  {
   "cell_type": "raw",
   "id": "a91629fa-2477-495e-8042-7fc08247c357",
   "metadata": {},
   "source": [
    "We have 39 degrees of freedom, hence, the z distribution.\n",
    "Calculate the z score first."
   ]
  },
  {
   "cell_type": "code",
   "execution_count": 17,
   "id": "4888b142-48fb-4fd0-ab6f-6effec8c892d",
   "metadata": {
    "tags": []
   },
   "outputs": [
    {
     "data": {
      "text/plain": [
       "-2.5298221281347035"
      ]
     },
     "execution_count": 17,
     "metadata": {},
     "output_type": "execute_result"
    }
   ],
   "source": [
    "z = (x_bar - mu) / (sigma / np.sqrt(n))\n",
    "z"
   ]
  },
  {
   "cell_type": "raw",
   "id": "3656adff-8a4e-4336-ad13-0de7b9c4dfd9",
   "metadata": {
    "tags": []
   },
   "source": [
    "Now calculate the p value corresponding to the obtained z score"
   ]
  },
  {
   "cell_type": "code",
   "execution_count": 18,
   "id": "ab5b90a7-3255-42d6-84d8-94570d1cd77e",
   "metadata": {
    "tags": []
   },
   "outputs": [
    {
     "data": {
      "text/plain": [
       "0.005706018193000826"
      ]
     },
     "execution_count": 18,
     "metadata": {},
     "output_type": "execute_result"
    }
   ],
   "source": [
    "p_value = stats.norm.cdf(z)\n",
    "p_value"
   ]
  },
  {
   "cell_type": "code",
   "execution_count": 19,
   "id": "67484902-ab5f-44e4-8904-b8f79f2be151",
   "metadata": {
    "tags": []
   },
   "outputs": [
    {
     "name": "stdout",
     "output_type": "stream",
     "text": [
      "At 0.01 level of significance, we can reject the null hypothesis in favor of alternative hypothesis.\n"
     ]
    }
   ],
   "source": [
    "alpha = .01\n",
    "\n",
    "if p_value<alpha:\n",
    "    print('At {} level of significance, we can reject the null hypothesis in favor of alternative hypothesis.'.format(alpha))\n",
    "else:\n",
    "    print('At {} level of significance, we fail to reject the null hypothesis.'.format(alpha))"
   ]
  },
  {
   "cell_type": "raw",
   "id": "c3665465-144f-4011-9303-29f1113695ac",
   "metadata": {},
   "source": [
    "Conclusion: \n",
    "Yes, we have evidence for the accusation that this company is paying substandard wages."
   ]
  },
  {
   "cell_type": "markdown",
   "id": "e4b3fd14-7e68-45de-8f66-c60ae495b5a6",
   "metadata": {
    "tags": []
   },
   "source": [
    "### EXERCISE 4."
   ]
  },
  {
   "cell_type": "raw",
   "id": "6f0932ee-67b1-46b9-8122-2af591a2eddf",
   "metadata": {},
   "source": [
    "Shear strength measurements derived from unconfined compression tests for two types of soils gave the results shown in the following document (measurements in tons per square foot). Do the soils appear to differ with respect to average shear strength, at the 1% significance level?\n",
    "Results for two type of soils\n",
    "CHECK: statistic: 5.1681473319343345, pvalue= 2.593228732352821e-06\n"
   ]
  },
  {
   "cell_type": "code",
   "execution_count": 20,
   "id": "9fd2e197-c53a-4a66-8f37-6f6b833e2c2c",
   "metadata": {
    "tags": []
   },
   "outputs": [
    {
     "data": {
      "text/html": [
       "<div>\n",
       "<style scoped>\n",
       "    .dataframe tbody tr th:only-of-type {\n",
       "        vertical-align: middle;\n",
       "    }\n",
       "\n",
       "    .dataframe tbody tr th {\n",
       "        vertical-align: top;\n",
       "    }\n",
       "\n",
       "    .dataframe thead th {\n",
       "        text-align: right;\n",
       "    }\n",
       "</style>\n",
       "<table border=\"1\" class=\"dataframe\">\n",
       "  <thead>\n",
       "    <tr style=\"text-align: right;\">\n",
       "      <th></th>\n",
       "      <th>Soil1</th>\n",
       "      <th>Soil2</th>\n",
       "    </tr>\n",
       "  </thead>\n",
       "  <tbody>\n",
       "    <tr>\n",
       "      <th>0</th>\n",
       "      <td>1.442</td>\n",
       "      <td>1.364</td>\n",
       "    </tr>\n",
       "    <tr>\n",
       "      <th>1</th>\n",
       "      <td>1.943</td>\n",
       "      <td>1.878</td>\n",
       "    </tr>\n",
       "    <tr>\n",
       "      <th>2</th>\n",
       "      <td>1.110</td>\n",
       "      <td>1.337</td>\n",
       "    </tr>\n",
       "    <tr>\n",
       "      <th>3</th>\n",
       "      <td>1.912</td>\n",
       "      <td>1.828</td>\n",
       "    </tr>\n",
       "    <tr>\n",
       "      <th>4</th>\n",
       "      <td>1.553</td>\n",
       "      <td>1.371</td>\n",
       "    </tr>\n",
       "  </tbody>\n",
       "</table>\n",
       "</div>"
      ],
      "text/plain": [
       "   Soil1  Soil2\n",
       "0  1.442  1.364\n",
       "1  1.943  1.878\n",
       "2  1.110  1.337\n",
       "3  1.912  1.828\n",
       "4  1.553  1.371"
      ]
     },
     "execution_count": 20,
     "metadata": {},
     "output_type": "execute_result"
    }
   ],
   "source": [
    "soil = pd.read_csv(\"soil.csv\")\n",
    "soil.head()"
   ]
  },
  {
   "cell_type": "code",
   "execution_count": 21,
   "id": "bb4f9e73-1b1a-4a92-856a-f1389b7cf8f4",
   "metadata": {
    "tags": []
   },
   "outputs": [
    {
     "data": {
      "text/html": [
       "<div>\n",
       "<style scoped>\n",
       "    .dataframe tbody tr th:only-of-type {\n",
       "        vertical-align: middle;\n",
       "    }\n",
       "\n",
       "    .dataframe tbody tr th {\n",
       "        vertical-align: top;\n",
       "    }\n",
       "\n",
       "    .dataframe thead th {\n",
       "        text-align: right;\n",
       "    }\n",
       "</style>\n",
       "<table border=\"1\" class=\"dataframe\">\n",
       "  <thead>\n",
       "    <tr style=\"text-align: right;\">\n",
       "      <th></th>\n",
       "      <th>Soil1</th>\n",
       "      <th>Soil2</th>\n",
       "    </tr>\n",
       "  </thead>\n",
       "  <tbody>\n",
       "    <tr>\n",
       "      <th>count</th>\n",
       "      <td>30.000000</td>\n",
       "      <td>35.000000</td>\n",
       "    </tr>\n",
       "    <tr>\n",
       "      <th>mean</th>\n",
       "      <td>1.691800</td>\n",
       "      <td>1.417114</td>\n",
       "    </tr>\n",
       "    <tr>\n",
       "      <th>std</th>\n",
       "      <td>0.206903</td>\n",
       "      <td>0.219184</td>\n",
       "    </tr>\n",
       "    <tr>\n",
       "      <th>min</th>\n",
       "      <td>1.110000</td>\n",
       "      <td>1.053000</td>\n",
       "    </tr>\n",
       "    <tr>\n",
       "      <th>25%</th>\n",
       "      <td>1.572000</td>\n",
       "      <td>1.231000</td>\n",
       "    </tr>\n",
       "    <tr>\n",
       "      <th>50%</th>\n",
       "      <td>1.675000</td>\n",
       "      <td>1.379000</td>\n",
       "    </tr>\n",
       "    <tr>\n",
       "      <th>75%</th>\n",
       "      <td>1.865250</td>\n",
       "      <td>1.559000</td>\n",
       "    </tr>\n",
       "    <tr>\n",
       "      <th>max</th>\n",
       "      <td>2.054000</td>\n",
       "      <td>1.878000</td>\n",
       "    </tr>\n",
       "  </tbody>\n",
       "</table>\n",
       "</div>"
      ],
      "text/plain": [
       "           Soil1      Soil2\n",
       "count  30.000000  35.000000\n",
       "mean    1.691800   1.417114\n",
       "std     0.206903   0.219184\n",
       "min     1.110000   1.053000\n",
       "25%     1.572000   1.231000\n",
       "50%     1.675000   1.379000\n",
       "75%     1.865250   1.559000\n",
       "max     2.054000   1.878000"
      ]
     },
     "execution_count": 21,
     "metadata": {},
     "output_type": "execute_result"
    }
   ],
   "source": [
    "soil.describe()"
   ]
  },
  {
   "cell_type": "code",
   "execution_count": 22,
   "id": "366fea6f-3221-4fa7-aecf-d06e1d8dd9fc",
   "metadata": {
    "tags": []
   },
   "outputs": [
    {
     "name": "stdout",
     "output_type": "stream",
     "text": [
      "<class 'pandas.core.frame.DataFrame'>\n",
      "RangeIndex: 35 entries, 0 to 34\n",
      "Data columns (total 2 columns):\n",
      " #   Column  Non-Null Count  Dtype  \n",
      "---  ------  --------------  -----  \n",
      " 0   Soil1   30 non-null     float64\n",
      " 1   Soil2   35 non-null     float64\n",
      "dtypes: float64(2)\n",
      "memory usage: 688.0 bytes\n"
     ]
    }
   ],
   "source": [
    "soil.info()"
   ]
  },
  {
   "cell_type": "code",
   "execution_count": 23,
   "id": "5bafbfbf-8c65-4e96-96b6-69d509c38506",
   "metadata": {
    "tags": []
   },
   "outputs": [
    {
     "data": {
      "text/plain": [
       "Soil1    5\n",
       "Soil2    0\n",
       "dtype: int64"
      ]
     },
     "execution_count": 23,
     "metadata": {},
     "output_type": "execute_result"
    }
   ],
   "source": [
    "soil.isna().sum()"
   ]
  },
  {
   "cell_type": "code",
   "execution_count": 24,
   "id": "3edefbe0-6d7e-4f49-be8b-1a52c223f2a1",
   "metadata": {},
   "outputs": [],
   "source": [
    "# Because the sample size differs between the two types of soils, I will treat each soil as a separate sample rather than drop the missing values in Soil1."
   ]
  },
  {
   "cell_type": "raw",
   "id": "63211c92-b5af-4c2a-a099-88addc614043",
   "metadata": {},
   "source": [
    "Ho : The two soils do NOT differ with respect to average shear strength.\n",
    "Ha : The two soils DIFFER with respect to average shear strength."
   ]
  },
  {
   "cell_type": "code",
   "execution_count": 25,
   "id": "16d7da92-a056-44a1-9dcc-8dd66c16bd5d",
   "metadata": {
    "tags": []
   },
   "outputs": [
    {
     "data": {
      "text/plain": [
       "Ttest_indResult(statistic=array([5.16814733]), pvalue=array([2.59322873e-06]))"
      ]
     },
     "execution_count": 25,
     "metadata": {},
     "output_type": "execute_result"
    }
   ],
   "source": [
    "twosample = stats.ttest_ind(soil[[\"Soil1\"]].dropna(), soil[[\"Soil2\"]])\n",
    "twosample"
   ]
  },
  {
   "cell_type": "code",
   "execution_count": 26,
   "id": "7519a771-3d1e-448a-8c4b-438508cabb0b",
   "metadata": {
    "tags": []
   },
   "outputs": [
    {
     "name": "stdout",
     "output_type": "stream",
     "text": [
      "At 0.01 level of significance, we can reject the null hypothesis in favor of alternative hypothesis.\n"
     ]
    }
   ],
   "source": [
    "alpha = 0.01\n",
    "if twosample.pvalue<alpha:\n",
    "    print('At {} level of significance, we can reject the null hypothesis in favor of alternative hypothesis.'.format(alpha))\n",
    "else:\n",
    "    print('At {} level of significance, we fail to reject the null hypothesis.'.format(alpha))"
   ]
  },
  {
   "cell_type": "raw",
   "id": "960fd437-0688-432f-88da-17abfdb06593",
   "metadata": {
    "tags": []
   },
   "source": [
    "Conclusion:\n",
    "We have sufficient evidence to suggest that the average shear strength differs between the two types of soil. On average, Soil1 appears to have higher shear strength than Soil2."
   ]
  },
  {
   "cell_type": "markdown",
   "id": "0a4b09a3-b29d-4cf5-a943-4d2503723143",
   "metadata": {},
   "source": [
    "### EXERCISE 5."
   ]
  },
  {
   "cell_type": "raw",
   "id": "5f3dfa53-7ead-448b-bb35-ec9addd165f3",
   "metadata": {},
   "source": [
    "The following dataset is based on data provided by the World Bank (https://datacatalog.worldbank.org/dataset/education-statistics). World Bank Edstats.  2015 PISA Test Dataset\n",
    "1.\tGet descriptive statistics (the central tendency, dispersion and shape of a dataset’s distribution) for each continent group (AS, EU, AF, NA, SA, OC).\n",
    "2.\tDetermine whether there is any difference (on the average) for the math scores among European (EU) and Asian (AS) countries (assume normality and equal variances). Draw side-by-side box plots.\n",
    "CHECK: statistic=0.870055317967983, pvalue=0.38826888111307345\n"
   ]
  },
  {
   "cell_type": "code",
   "execution_count": 27,
   "id": "ee677a95-e619-4562-b54e-2fd8191b1a90",
   "metadata": {
    "tags": []
   },
   "outputs": [],
   "source": [
    "pisa = pd.read_csv(\"2015 PISA Test.csv\")"
   ]
  },
  {
   "cell_type": "code",
   "execution_count": 28,
   "id": "42073ec3-5326-4658-a525-eac5e2948d4c",
   "metadata": {
    "tags": []
   },
   "outputs": [
    {
     "data": {
      "text/html": [
       "<div>\n",
       "<style scoped>\n",
       "    .dataframe tbody tr th:only-of-type {\n",
       "        vertical-align: middle;\n",
       "    }\n",
       "\n",
       "    .dataframe tbody tr th {\n",
       "        vertical-align: top;\n",
       "    }\n",
       "\n",
       "    .dataframe thead th {\n",
       "        text-align: right;\n",
       "    }\n",
       "</style>\n",
       "<table border=\"1\" class=\"dataframe\">\n",
       "  <thead>\n",
       "    <tr style=\"text-align: right;\">\n",
       "      <th></th>\n",
       "      <th>Country Code</th>\n",
       "      <th>Continent_Code</th>\n",
       "      <th>internet_users_per_100</th>\n",
       "      <th>Math</th>\n",
       "      <th>Reading</th>\n",
       "      <th>Science</th>\n",
       "    </tr>\n",
       "  </thead>\n",
       "  <tbody>\n",
       "    <tr>\n",
       "      <th>0</th>\n",
       "      <td>ALB</td>\n",
       "      <td>EU</td>\n",
       "      <td>63.252933</td>\n",
       "      <td>413.1570</td>\n",
       "      <td>405.2588</td>\n",
       "      <td>427.2250</td>\n",
       "    </tr>\n",
       "    <tr>\n",
       "      <th>1</th>\n",
       "      <td>ARE</td>\n",
       "      <td>AS</td>\n",
       "      <td>90.500000</td>\n",
       "      <td>427.4827</td>\n",
       "      <td>433.5423</td>\n",
       "      <td>436.7311</td>\n",
       "    </tr>\n",
       "    <tr>\n",
       "      <th>2</th>\n",
       "      <td>ARG</td>\n",
       "      <td>SA</td>\n",
       "      <td>68.043064</td>\n",
       "      <td>409.0333</td>\n",
       "      <td>425.3031</td>\n",
       "      <td>432.2262</td>\n",
       "    </tr>\n",
       "    <tr>\n",
       "      <th>3</th>\n",
       "      <td>AUS</td>\n",
       "      <td>OC</td>\n",
       "      <td>84.560519</td>\n",
       "      <td>493.8962</td>\n",
       "      <td>502.9006</td>\n",
       "      <td>509.9939</td>\n",
       "    </tr>\n",
       "    <tr>\n",
       "      <th>4</th>\n",
       "      <td>AUT</td>\n",
       "      <td>EU</td>\n",
       "      <td>83.940142</td>\n",
       "      <td>496.7423</td>\n",
       "      <td>484.8656</td>\n",
       "      <td>495.0375</td>\n",
       "    </tr>\n",
       "  </tbody>\n",
       "</table>\n",
       "</div>"
      ],
      "text/plain": [
       "  Country Code Continent_Code  internet_users_per_100      Math   Reading  \\\n",
       "0          ALB             EU               63.252933  413.1570  405.2588   \n",
       "1          ARE             AS               90.500000  427.4827  433.5423   \n",
       "2          ARG             SA               68.043064  409.0333  425.3031   \n",
       "3          AUS             OC               84.560519  493.8962  502.9006   \n",
       "4          AUT             EU               83.940142  496.7423  484.8656   \n",
       "\n",
       "    Science  \n",
       "0  427.2250  \n",
       "1  436.7311  \n",
       "2  432.2262  \n",
       "3  509.9939  \n",
       "4  495.0375  "
      ]
     },
     "execution_count": 28,
     "metadata": {},
     "output_type": "execute_result"
    }
   ],
   "source": [
    "pisa.head()"
   ]
  },
  {
   "cell_type": "code",
   "execution_count": 29,
   "id": "2796187f-1abb-4af6-aee8-d93afc820720",
   "metadata": {
    "tags": []
   },
   "outputs": [
    {
     "data": {
      "text/plain": [
       "EU     37\n",
       "AS     17\n",
       "SA      7\n",
       "NaN     5\n",
       "OC      2\n",
       "AF      2\n",
       "Name: Continent_Code, dtype: int64"
      ]
     },
     "execution_count": 29,
     "metadata": {},
     "output_type": "execute_result"
    }
   ],
   "source": [
    "pisa.Continent_Code.value_counts(dropna=False)"
   ]
  },
  {
   "cell_type": "code",
   "execution_count": 30,
   "id": "f9530472-aa95-4731-b9f3-4ece6972e52c",
   "metadata": {
    "tags": []
   },
   "outputs": [
    {
     "data": {
      "text/html": [
       "<div>\n",
       "<style scoped>\n",
       "    .dataframe tbody tr th:only-of-type {\n",
       "        vertical-align: middle;\n",
       "    }\n",
       "\n",
       "    .dataframe tbody tr th {\n",
       "        vertical-align: top;\n",
       "    }\n",
       "\n",
       "    .dataframe thead th {\n",
       "        text-align: right;\n",
       "    }\n",
       "</style>\n",
       "<table border=\"1\" class=\"dataframe\">\n",
       "  <thead>\n",
       "    <tr style=\"text-align: right;\">\n",
       "      <th></th>\n",
       "      <th>internet_users_per_100</th>\n",
       "      <th>Math</th>\n",
       "      <th>Reading</th>\n",
       "      <th>Science</th>\n",
       "    </tr>\n",
       "  </thead>\n",
       "  <tbody>\n",
       "    <tr>\n",
       "      <th>count</th>\n",
       "      <td>17.000000</td>\n",
       "      <td>17.000000</td>\n",
       "      <td>17.000000</td>\n",
       "      <td>17.000000</td>\n",
       "    </tr>\n",
       "    <tr>\n",
       "      <th>mean</th>\n",
       "      <td>68.455613</td>\n",
       "      <td>466.216647</td>\n",
       "      <td>454.059682</td>\n",
       "      <td>467.945847</td>\n",
       "    </tr>\n",
       "    <tr>\n",
       "      <th>std</th>\n",
       "      <td>21.086060</td>\n",
       "      <td>64.356490</td>\n",
       "      <td>57.048962</td>\n",
       "      <td>56.671371</td>\n",
       "    </tr>\n",
       "    <tr>\n",
       "      <th>min</th>\n",
       "      <td>21.976068</td>\n",
       "      <td>380.259000</td>\n",
       "      <td>346.549000</td>\n",
       "      <td>386.485400</td>\n",
       "    </tr>\n",
       "    <tr>\n",
       "      <th>25%</th>\n",
       "      <td>50.300000</td>\n",
       "      <td>403.833200</td>\n",
       "      <td>408.102200</td>\n",
       "      <td>417.611200</td>\n",
       "    </tr>\n",
       "    <tr>\n",
       "      <th>50%</th>\n",
       "      <td>74.000000</td>\n",
       "      <td>459.816000</td>\n",
       "      <td>433.542300</td>\n",
       "      <td>456.483600</td>\n",
       "    </tr>\n",
       "    <tr>\n",
       "      <th>75%</th>\n",
       "      <td>84.948353</td>\n",
       "      <td>531.296100</td>\n",
       "      <td>508.690500</td>\n",
       "      <td>523.277400</td>\n",
       "    </tr>\n",
       "    <tr>\n",
       "      <th>max</th>\n",
       "      <td>92.884826</td>\n",
       "      <td>564.189700</td>\n",
       "      <td>535.100200</td>\n",
       "      <td>555.574700</td>\n",
       "    </tr>\n",
       "  </tbody>\n",
       "</table>\n",
       "</div>"
      ],
      "text/plain": [
       "       internet_users_per_100        Math     Reading     Science\n",
       "count               17.000000   17.000000   17.000000   17.000000\n",
       "mean                68.455613  466.216647  454.059682  467.945847\n",
       "std                 21.086060   64.356490   57.048962   56.671371\n",
       "min                 21.976068  380.259000  346.549000  386.485400\n",
       "25%                 50.300000  403.833200  408.102200  417.611200\n",
       "50%                 74.000000  459.816000  433.542300  456.483600\n",
       "75%                 84.948353  531.296100  508.690500  523.277400\n",
       "max                 92.884826  564.189700  535.100200  555.574700"
      ]
     },
     "execution_count": 30,
     "metadata": {},
     "output_type": "execute_result"
    }
   ],
   "source": [
    "pisa[pisa[\"Continent_Code\"]==\"AS\"].describe()"
   ]
  },
  {
   "cell_type": "code",
   "execution_count": 31,
   "id": "3e2a06c2-36ab-4dae-ad12-47591b0a77ba",
   "metadata": {
    "tags": []
   },
   "outputs": [
    {
     "data": {
      "text/html": [
       "<div>\n",
       "<style scoped>\n",
       "    .dataframe tbody tr th:only-of-type {\n",
       "        vertical-align: middle;\n",
       "    }\n",
       "\n",
       "    .dataframe tbody tr th {\n",
       "        vertical-align: top;\n",
       "    }\n",
       "\n",
       "    .dataframe thead th {\n",
       "        text-align: right;\n",
       "    }\n",
       "</style>\n",
       "<table border=\"1\" class=\"dataframe\">\n",
       "  <thead>\n",
       "    <tr style=\"text-align: right;\">\n",
       "      <th></th>\n",
       "      <th>internet_users_per_100</th>\n",
       "      <th>Math</th>\n",
       "      <th>Reading</th>\n",
       "      <th>Science</th>\n",
       "    </tr>\n",
       "  </thead>\n",
       "  <tbody>\n",
       "    <tr>\n",
       "      <th>count</th>\n",
       "      <td>37.000000</td>\n",
       "      <td>37.000000</td>\n",
       "      <td>37.000000</td>\n",
       "      <td>37.000000</td>\n",
       "    </tr>\n",
       "    <tr>\n",
       "      <th>mean</th>\n",
       "      <td>77.274888</td>\n",
       "      <td>477.981449</td>\n",
       "      <td>476.164608</td>\n",
       "      <td>478.299381</td>\n",
       "    </tr>\n",
       "    <tr>\n",
       "      <th>std</th>\n",
       "      <td>12.425773</td>\n",
       "      <td>35.150403</td>\n",
       "      <td>37.720545</td>\n",
       "      <td>34.450616</td>\n",
       "    </tr>\n",
       "    <tr>\n",
       "      <th>min</th>\n",
       "      <td>53.744979</td>\n",
       "      <td>371.311400</td>\n",
       "      <td>351.741500</td>\n",
       "      <td>383.682400</td>\n",
       "    </tr>\n",
       "    <tr>\n",
       "      <th>25%</th>\n",
       "      <td>68.632900</td>\n",
       "      <td>464.040100</td>\n",
       "      <td>452.514300</td>\n",
       "      <td>460.774900</td>\n",
       "    </tr>\n",
       "    <tr>\n",
       "      <th>50%</th>\n",
       "      <td>76.184000</td>\n",
       "      <td>489.728700</td>\n",
       "      <td>487.250100</td>\n",
       "      <td>490.225000</td>\n",
       "    </tr>\n",
       "    <tr>\n",
       "      <th>75%</th>\n",
       "      <td>87.479056</td>\n",
       "      <td>503.722000</td>\n",
       "      <td>499.814600</td>\n",
       "      <td>501.936900</td>\n",
       "    </tr>\n",
       "    <tr>\n",
       "      <th>max</th>\n",
       "      <td>98.200000</td>\n",
       "      <td>521.250600</td>\n",
       "      <td>526.424700</td>\n",
       "      <td>534.193700</td>\n",
       "    </tr>\n",
       "  </tbody>\n",
       "</table>\n",
       "</div>"
      ],
      "text/plain": [
       "       internet_users_per_100        Math     Reading     Science\n",
       "count               37.000000   37.000000   37.000000   37.000000\n",
       "mean                77.274888  477.981449  476.164608  478.299381\n",
       "std                 12.425773   35.150403   37.720545   34.450616\n",
       "min                 53.744979  371.311400  351.741500  383.682400\n",
       "25%                 68.632900  464.040100  452.514300  460.774900\n",
       "50%                 76.184000  489.728700  487.250100  490.225000\n",
       "75%                 87.479056  503.722000  499.814600  501.936900\n",
       "max                 98.200000  521.250600  526.424700  534.193700"
      ]
     },
     "execution_count": 31,
     "metadata": {},
     "output_type": "execute_result"
    }
   ],
   "source": [
    "pisa[pisa[\"Continent_Code\"]==\"EU\"].describe()"
   ]
  },
  {
   "cell_type": "code",
   "execution_count": 32,
   "id": "2c5c7246-77e2-4b4a-a88a-071d01224442",
   "metadata": {
    "tags": []
   },
   "outputs": [
    {
     "data": {
      "text/html": [
       "<div>\n",
       "<style scoped>\n",
       "    .dataframe tbody tr th:only-of-type {\n",
       "        vertical-align: middle;\n",
       "    }\n",
       "\n",
       "    .dataframe tbody tr th {\n",
       "        vertical-align: top;\n",
       "    }\n",
       "\n",
       "    .dataframe thead th {\n",
       "        text-align: right;\n",
       "    }\n",
       "</style>\n",
       "<table border=\"1\" class=\"dataframe\">\n",
       "  <thead>\n",
       "    <tr style=\"text-align: right;\">\n",
       "      <th></th>\n",
       "      <th>internet_users_per_100</th>\n",
       "      <th>Math</th>\n",
       "      <th>Reading</th>\n",
       "      <th>Science</th>\n",
       "    </tr>\n",
       "  </thead>\n",
       "  <tbody>\n",
       "    <tr>\n",
       "      <th>count</th>\n",
       "      <td>7.000000</td>\n",
       "      <td>7.000000</td>\n",
       "      <td>7.000000</td>\n",
       "      <td>7.000000</td>\n",
       "    </tr>\n",
       "    <tr>\n",
       "      <th>mean</th>\n",
       "      <td>60.180494</td>\n",
       "      <td>402.887700</td>\n",
       "      <td>425.359229</td>\n",
       "      <td>421.747186</td>\n",
       "    </tr>\n",
       "    <tr>\n",
       "      <th>std</th>\n",
       "      <td>9.772455</td>\n",
       "      <td>18.128894</td>\n",
       "      <td>19.709688</td>\n",
       "      <td>18.470319</td>\n",
       "    </tr>\n",
       "    <tr>\n",
       "      <th>min</th>\n",
       "      <td>40.900000</td>\n",
       "      <td>377.069500</td>\n",
       "      <td>397.541400</td>\n",
       "      <td>396.683600</td>\n",
       "    </tr>\n",
       "    <tr>\n",
       "      <th>25%</th>\n",
       "      <td>57.116462</td>\n",
       "      <td>388.102200</td>\n",
       "      <td>416.126900</td>\n",
       "      <td>408.205450</td>\n",
       "    </tr>\n",
       "    <tr>\n",
       "      <th>50%</th>\n",
       "      <td>64.289000</td>\n",
       "      <td>409.033300</td>\n",
       "      <td>425.303100</td>\n",
       "      <td>424.590500</td>\n",
       "    </tr>\n",
       "    <tr>\n",
       "      <th>75%</th>\n",
       "      <td>66.321532</td>\n",
       "      <td>417.617650</td>\n",
       "      <td>431.922700</td>\n",
       "      <td>433.794600</td>\n",
       "    </tr>\n",
       "    <tr>\n",
       "      <th>max</th>\n",
       "      <td>69.198471</td>\n",
       "      <td>422.671400</td>\n",
       "      <td>458.570900</td>\n",
       "      <td>446.956100</td>\n",
       "    </tr>\n",
       "  </tbody>\n",
       "</table>\n",
       "</div>"
      ],
      "text/plain": [
       "       internet_users_per_100        Math     Reading     Science\n",
       "count                7.000000    7.000000    7.000000    7.000000\n",
       "mean                60.180494  402.887700  425.359229  421.747186\n",
       "std                  9.772455   18.128894   19.709688   18.470319\n",
       "min                 40.900000  377.069500  397.541400  396.683600\n",
       "25%                 57.116462  388.102200  416.126900  408.205450\n",
       "50%                 64.289000  409.033300  425.303100  424.590500\n",
       "75%                 66.321532  417.617650  431.922700  433.794600\n",
       "max                 69.198471  422.671400  458.570900  446.956100"
      ]
     },
     "execution_count": 32,
     "metadata": {},
     "output_type": "execute_result"
    }
   ],
   "source": [
    "pisa[pisa[\"Continent_Code\"]==\"SA\"].describe()"
   ]
  },
  {
   "cell_type": "code",
   "execution_count": 33,
   "id": "23808b8b-6205-40ad-86b9-f79eb5a56a10",
   "metadata": {
    "tags": []
   },
   "outputs": [
    {
     "data": {
      "text/html": [
       "<div>\n",
       "<style scoped>\n",
       "    .dataframe tbody tr th:only-of-type {\n",
       "        vertical-align: middle;\n",
       "    }\n",
       "\n",
       "    .dataframe tbody tr th {\n",
       "        vertical-align: top;\n",
       "    }\n",
       "\n",
       "    .dataframe thead th {\n",
       "        text-align: right;\n",
       "    }\n",
       "</style>\n",
       "<table border=\"1\" class=\"dataframe\">\n",
       "  <thead>\n",
       "    <tr style=\"text-align: right;\">\n",
       "      <th></th>\n",
       "      <th>internet_users_per_100</th>\n",
       "      <th>Math</th>\n",
       "      <th>Reading</th>\n",
       "      <th>Science</th>\n",
       "    </tr>\n",
       "  </thead>\n",
       "  <tbody>\n",
       "    <tr>\n",
       "      <th>count</th>\n",
       "      <td>2.000000</td>\n",
       "      <td>2.000000</td>\n",
       "      <td>2.000000</td>\n",
       "      <td>2.000000</td>\n",
       "    </tr>\n",
       "    <tr>\n",
       "      <th>mean</th>\n",
       "      <td>86.391704</td>\n",
       "      <td>494.559750</td>\n",
       "      <td>506.085650</td>\n",
       "      <td>511.648700</td>\n",
       "    </tr>\n",
       "    <tr>\n",
       "      <th>std</th>\n",
       "      <td>2.589686</td>\n",
       "      <td>0.938401</td>\n",
       "      <td>4.504341</td>\n",
       "      <td>2.340241</td>\n",
       "    </tr>\n",
       "    <tr>\n",
       "      <th>min</th>\n",
       "      <td>84.560519</td>\n",
       "      <td>493.896200</td>\n",
       "      <td>502.900600</td>\n",
       "      <td>509.993900</td>\n",
       "    </tr>\n",
       "    <tr>\n",
       "      <th>25%</th>\n",
       "      <td>85.476112</td>\n",
       "      <td>494.227975</td>\n",
       "      <td>504.493125</td>\n",
       "      <td>510.821300</td>\n",
       "    </tr>\n",
       "    <tr>\n",
       "      <th>50%</th>\n",
       "      <td>86.391704</td>\n",
       "      <td>494.559750</td>\n",
       "      <td>506.085650</td>\n",
       "      <td>511.648700</td>\n",
       "    </tr>\n",
       "    <tr>\n",
       "      <th>75%</th>\n",
       "      <td>87.307296</td>\n",
       "      <td>494.891525</td>\n",
       "      <td>507.678175</td>\n",
       "      <td>512.476100</td>\n",
       "    </tr>\n",
       "    <tr>\n",
       "      <th>max</th>\n",
       "      <td>88.222889</td>\n",
       "      <td>495.223300</td>\n",
       "      <td>509.270700</td>\n",
       "      <td>513.303500</td>\n",
       "    </tr>\n",
       "  </tbody>\n",
       "</table>\n",
       "</div>"
      ],
      "text/plain": [
       "       internet_users_per_100        Math     Reading     Science\n",
       "count                2.000000    2.000000    2.000000    2.000000\n",
       "mean                86.391704  494.559750  506.085650  511.648700\n",
       "std                  2.589686    0.938401    4.504341    2.340241\n",
       "min                 84.560519  493.896200  502.900600  509.993900\n",
       "25%                 85.476112  494.227975  504.493125  510.821300\n",
       "50%                 86.391704  494.559750  506.085650  511.648700\n",
       "75%                 87.307296  494.891525  507.678175  512.476100\n",
       "max                 88.222889  495.223300  509.270700  513.303500"
      ]
     },
     "execution_count": 33,
     "metadata": {},
     "output_type": "execute_result"
    }
   ],
   "source": [
    "pisa[pisa[\"Continent_Code\"]==\"OC\"].describe()"
   ]
  },
  {
   "cell_type": "code",
   "execution_count": 34,
   "id": "698b51de-bea6-4de0-add4-a462d51bce9d",
   "metadata": {
    "tags": []
   },
   "outputs": [
    {
     "data": {
      "text/html": [
       "<div>\n",
       "<style scoped>\n",
       "    .dataframe tbody tr th:only-of-type {\n",
       "        vertical-align: middle;\n",
       "    }\n",
       "\n",
       "    .dataframe tbody tr th {\n",
       "        vertical-align: top;\n",
       "    }\n",
       "\n",
       "    .dataframe thead th {\n",
       "        text-align: right;\n",
       "    }\n",
       "</style>\n",
       "<table border=\"1\" class=\"dataframe\">\n",
       "  <thead>\n",
       "    <tr style=\"text-align: right;\">\n",
       "      <th></th>\n",
       "      <th>internet_users_per_100</th>\n",
       "      <th>Math</th>\n",
       "      <th>Reading</th>\n",
       "      <th>Science</th>\n",
       "    </tr>\n",
       "  </thead>\n",
       "  <tbody>\n",
       "    <tr>\n",
       "      <th>count</th>\n",
       "      <td>2.000000</td>\n",
       "      <td>2.000000</td>\n",
       "      <td>2.000000</td>\n",
       "      <td>2.000000</td>\n",
       "    </tr>\n",
       "    <tr>\n",
       "      <th>mean</th>\n",
       "      <td>43.359918</td>\n",
       "      <td>363.212100</td>\n",
       "      <td>355.457400</td>\n",
       "      <td>381.074250</td>\n",
       "    </tr>\n",
       "    <tr>\n",
       "      <th>std</th>\n",
       "      <td>7.297226</td>\n",
       "      <td>5.099513</td>\n",
       "      <td>7.916909</td>\n",
       "      <td>7.536556</td>\n",
       "    </tr>\n",
       "    <tr>\n",
       "      <th>min</th>\n",
       "      <td>38.200000</td>\n",
       "      <td>359.606200</td>\n",
       "      <td>349.859300</td>\n",
       "      <td>375.745100</td>\n",
       "    </tr>\n",
       "    <tr>\n",
       "      <th>25%</th>\n",
       "      <td>40.779959</td>\n",
       "      <td>361.409150</td>\n",
       "      <td>352.658350</td>\n",
       "      <td>378.409675</td>\n",
       "    </tr>\n",
       "    <tr>\n",
       "      <th>50%</th>\n",
       "      <td>43.359918</td>\n",
       "      <td>363.212100</td>\n",
       "      <td>355.457400</td>\n",
       "      <td>381.074250</td>\n",
       "    </tr>\n",
       "    <tr>\n",
       "      <th>75%</th>\n",
       "      <td>45.939877</td>\n",
       "      <td>365.015050</td>\n",
       "      <td>358.256450</td>\n",
       "      <td>383.738825</td>\n",
       "    </tr>\n",
       "    <tr>\n",
       "      <th>max</th>\n",
       "      <td>48.519836</td>\n",
       "      <td>366.818000</td>\n",
       "      <td>361.055500</td>\n",
       "      <td>386.403400</td>\n",
       "    </tr>\n",
       "  </tbody>\n",
       "</table>\n",
       "</div>"
      ],
      "text/plain": [
       "       internet_users_per_100        Math     Reading     Science\n",
       "count                2.000000    2.000000    2.000000    2.000000\n",
       "mean                43.359918  363.212100  355.457400  381.074250\n",
       "std                  7.297226    5.099513    7.916909    7.536556\n",
       "min                 38.200000  359.606200  349.859300  375.745100\n",
       "25%                 40.779959  361.409150  352.658350  378.409675\n",
       "50%                 43.359918  363.212100  355.457400  381.074250\n",
       "75%                 45.939877  365.015050  358.256450  383.738825\n",
       "max                 48.519836  366.818000  361.055500  386.403400"
      ]
     },
     "execution_count": 34,
     "metadata": {},
     "output_type": "execute_result"
    }
   ],
   "source": [
    "pisa[pisa[\"Continent_Code\"]==\"AF\"].describe()"
   ]
  },
  {
   "cell_type": "code",
   "execution_count": 35,
   "id": "2a58b994-886c-4b2b-859a-f896e4753abe",
   "metadata": {
    "tags": []
   },
   "outputs": [
    {
     "data": {
      "text/plain": [
       "EU    37\n",
       "AS    17\n",
       "Name: Continent_Code, dtype: int64"
      ]
     },
     "execution_count": 35,
     "metadata": {},
     "output_type": "execute_result"
    }
   ],
   "source": [
    "continents = [\"EU\", \"AS\"]\n",
    "df = pisa[pisa[\"Continent_Code\"].isin(continents)]\n",
    "df.Continent_Code.value_counts()\n"
   ]
  },
  {
   "cell_type": "code",
   "execution_count": 36,
   "id": "00df66b4-4be5-4df9-995c-f76a7334f04e",
   "metadata": {
    "tags": []
   },
   "outputs": [
    {
     "data": {
      "image/png": "[encoded data removed]",
      "text/plain": [
       "<Figure size 640x480 with 1 Axes>"
      ]
     },
     "metadata": {},
     "output_type": "display_data"
    }
   ],
   "source": [
    "sns.boxplot(data=df, y = \"Math\", x=\"Continent_Code\");"
   ]
  },
  {
   "cell_type": "raw",
   "id": "06903713-04af-43d2-9162-29f9307b4f22",
   "metadata": {},
   "source": [
    "Ho : There is no difference between EU and AS countries in Math scores.\n",
    "Ha : There is a difference between EU and AS countries in Math scores."
   ]
  },
  {
   "cell_type": "code",
   "execution_count": 37,
   "id": "c193a800-ba89-4f95-948d-fdabc83e8d3e",
   "metadata": {
    "tags": []
   },
   "outputs": [
    {
     "data": {
      "text/plain": [
       "Ttest_indResult(statistic=0.870055317967983, pvalue=0.38826888111307345)"
      ]
     },
     "execution_count": 37,
     "metadata": {},
     "output_type": "execute_result"
    }
   ],
   "source": [
    "# eu_scores = df[df[\"Continent_Code\"]==\"EU\"]\n",
    "# as_scores = df[df[\"Continent_Code\"]==\"AS\"]\n",
    "\n",
    "# twosample = stats.ttest_ind(eu_scores.Math, as_scores.Math)\n",
    "# twosample\n",
    "\n",
    "twosample = stats.ttest_ind(df.loc[df[\"Continent_Code\"]==\"EU\", \"Math\"], df[df[\"Continent_Code\"]==\"AS\"][\"Math\"])\n",
    "twosample"
   ]
  },
  {
   "cell_type": "code",
   "execution_count": 38,
   "id": "e5216786-21a2-460d-8b8a-8a55ff37d2e9",
   "metadata": {
    "tags": []
   },
   "outputs": [
    {
     "name": "stdout",
     "output_type": "stream",
     "text": [
      "At 0.05 level of significance, we fail to reject the null hypothesis.\n"
     ]
    }
   ],
   "source": [
    "alpha = 0.05\n",
    "if twosample.pvalue<alpha:\n",
    "    print('At {} level of significance, we can reject the null hypothesis in favor of alternative hypothesis.'.format(alpha))\n",
    "else:\n",
    "    print('At {} level of significance, we fail to reject the null hypothesis.'.format(alpha))"
   ]
  },
  {
   "cell_type": "raw",
   "id": "c30b9281-774a-49b5-976f-3778c465eb22",
   "metadata": {},
   "source": [
    "Conclusion: Students from the European and Asian countries do not appear to differ in their Math scores."
   ]
  }
 ],
 "metadata": {
  "kernelspec": {
   "display_name": "Python 3 (ipykernel)",
   "language": "python",
   "name": "python3"
  },
  "language_info": {
   "codemirror_mode": {
    "name": "ipython",
    "version": 3
   },
   "file_extension": ".py",
   "mimetype": "text/x-python",
   "name": "python",
   "nbconvert_exporter": "python",
   "pygments_lexer": "ipython3",
   "version": "3.10.11"
  }
 },
 "nbformat": 4,
 "nbformat_minor": 5
}
